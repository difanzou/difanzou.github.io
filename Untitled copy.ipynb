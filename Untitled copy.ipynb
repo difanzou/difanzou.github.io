{
 "cells": [
  {
   "cell_type": "code",
   "execution_count": 1,
   "id": "3306b593",
   "metadata": {},
   "outputs": [],
   "source": [
    "from openai import OpenAI"
   ]
  },
  {
   "cell_type": "code",
   "execution_count": 4,
   "id": "63c80956",
   "metadata": {},
   "outputs": [
    {
     "name": "stdout",
     "output_type": "stream",
     "text": [
      "Hello! How can I assist you today? 😊\n"
     ]
    }
   ],
   "source": [
    "client = OpenAI(api_key=\"sk-ccbaeeb82adf4b8e858e5e791b4a4f66\", base_url=\"https://api.deepseek.com\")\n",
    "\n",
    "response = client.chat.completions.create(\n",
    "    model=\"deepseek-chat\",\n",
    "    messages=[\n",
    "        {\"role\": \"system\", \"content\": \"You are a helpful assistant\"},\n",
    "        {\"role\": \"user\", \"content\": \"Hello\"},\n",
    "    ],\n",
    "    stream=False\n",
    ")\n",
    "\n",
    "print(response.choices[0].message.content)"
   ]
  },
  {
   "cell_type": "code",
   "execution_count": 5,
   "id": "6813f5b3",
   "metadata": {},
   "outputs": [
    {
     "name": "stdout",
     "output_type": "stream",
     "text": [
      "今天是2023年11月12日，星期日。  \n",
      "\n",
      "如果你想知道其他日期的星期几，可以告诉我具体的日期，我会帮你查询！ 😊\n"
     ]
    }
   ],
   "source": [
    "response = client.chat.completions.create(\n",
    "    model=\"deepseek-chat\",\n",
    "    messages=[\n",
    "        {\"role\": \"system\", \"content\": \"You are a helpful assistant\"},\n",
    "        {\"role\": \"user\", \"content\": \"今天是星期几\"},\n",
    "    ],\n",
    "    stream=False\n",
    ")\n",
    "\n",
    "print(response.choices[0].message.content)"
   ]
  },
  {
   "cell_type": "code",
   "execution_count": 6,
   "id": "87ce5b9a",
   "metadata": {},
   "outputs": [
    {
     "name": "stdout",
     "output_type": "stream",
     "text": [
      "你可以通过以下几种方法读取PDF文件的内容，我会根据你的需求提供详细的步骤：\n",
      "\n",
      "### 1. 使用Adobe Acrobat Reader（适合所有人）\n",
      "- **步骤**：\n",
      "  - 下载安装 [Adobe Acrobat Reader DC](https://get.adobe.com/reader/)（免费）\n",
      "  - 右键PDF文件 → 选择「打开方式」→ 选择Adobe Reader\n",
      "  - 用工具栏的放大镜调整页面大小，按页码或搜索（Ctrl+F）查找内容\n",
      "\n",
      "### 2. 浏览器直接打开（快速查看）\n",
      "- 拖拽PDF文件到Chrome/Firefox/Edge浏览器窗口即可自动解析文本和图片\n",
      "\n",
      "### 3. 文本提取（需复制内容）\n",
      "- **方法A**：Adobe Reader中点击「工具」→「导出PDF」→ 选择TXT/Word格式\n",
      "- **方法B**：用在线工具如 [Smallpdf](https://smallpdf.com/pdf-to-text)（注意隐私风险）\n",
      "\n",
      "### 4. 语音朗读（听觉需求）\n",
      "- **Windows**：安装 [NaturalReader](https://www.naturalreaders.com/) 等软件，打开PDF后选择文本→语音转换\n",
      "- **Mac**：用内置「朗读」功能：选中文本 → 右键 →「语音」→「开始朗读」\n",
      "\n",
      "### 5. 手机端推荐\n",
      "- **iOS**：用「文件」App打开，或安装PDF Expert\n",
      "- **Android**：WPS Office或「静读天下」App支持语音朗读\n",
      "\n",
      "### 6. 高级技巧（程序员向）\n",
      "```python\n",
      "# 用PyPDF2库提取文本（需安装：pip install pypdf2）\n",
      "from PyPDF2 import PdfReader\n",
      "\n",
      "reader = PdfReader(\"your_file.pdf\")\n",
      "for page in reader.pages:\n",
      "    print(page.extract_text())\n",
      "```\n",
      "\n",
      "### 注意事项：\n",
      "⚠️ 扫描版PDF（图片格式）需OCR识别：\n",
      "- 推荐工具：Adobe Scan、ABBYY FineReader\n",
      "- 在线方案：New OCR（免费但限制文件大小）\n",
      "\n",
      "如果需要进一步帮助，请告诉我：\n",
      "1. 你的操作系统（Win/Mac/手机）\n",
      "2. PDF是否可选中文字\n",
      "3. 具体需求（阅读/编辑/提取数据等）\n"
     ]
    }
   ],
   "source": [
    "response = client.chat.completions.create(\n",
    "    model=\"deepseek-chat\",\n",
    "    messages=[\n",
    "        {\"role\": \"system\", \"content\": \"You are a helpful assistant\"},\n",
    "        {\"role\": \"user\", \"content\": \"如何帮我读一个pdf文件\"},\n",
    "    ],\n",
    "    stream=False\n",
    ")\n",
    "\n",
    "print(response.choices[0].message.content)"
   ]
  },
  {
   "cell_type": "code",
   "execution_count": 7,
   "id": "b1b27bd3",
   "metadata": {},
   "outputs": [
    {
     "name": "stdout",
     "output_type": "stream",
     "text": [
      "你可以通过以下几种方法读取PDF文件的内容，我会根据你的需求推荐合适的工具和步骤：\n",
      "\n",
      "### 1. **使用PDF阅读器（适合直接阅读）**\n",
      "   - **推荐工具**：\n",
      "     - Adobe Acrobat Reader（官方免费版）\n",
      "     - Foxit Reader（轻量级）\n",
      "     - Sumatra PDF（极简快速）\n",
      "   - **步骤**：\n",
      "     1. 下载并安装阅读器。\n",
      "     2. 双击PDF文件自动打开，或通过软件内“文件→打开”选择文件。\n",
      "\n",
      "### 2. **复制文字内容（适合提取文本）**\n",
      "   - 用阅读器打开PDF后：\n",
      "     - 按 `Ctrl+A`（全选）→ `Ctrl+C`（复制），粘贴到记事本或Word中。\n",
      "     - **注意**：扫描版PDF需OCR识别（见下文）。\n",
      "\n",
      "### 3. **OCR识别图片/扫描版PDF（文字不可选时）**\n",
      "   - **推荐工具**：\n",
      "     - Adobe Acrobat Pro（付费，高精度）\n",
      "     - 免费替代：`XnViewMP` 或在线工具（如 ilovepdf.com）\n",
      "   - **步骤**：\n",
      "     1. 用工具打开PDF，选择“OCR文本识别”功能。\n",
      "     2. 设置输出语言（如中文/英文），导出为可编辑文本。\n",
      "\n",
      "### 4. **编程提取文本（适合批量处理）**\n",
      "   - **Python示例（需安装`PyPDF2`库）**：\n",
      "     ```python\n",
      "     import PyPDF2\n",
      "     with open(\"file.pdf\", \"rb\") as file:\n",
      "         reader = PyPDF2.PdfReader(file)\n",
      "         text = \"\"\n",
      "         for page in reader.pages:\n",
      "             text += page.extract_text()\n",
      "     print(text)  # 输出全部文本\n",
      "     ```\n",
      "   - **注意**：扫描版PDF需结合OCR库（如`pytesseract`）。\n",
      "\n",
      "### 5. **语音朗读（适合听觉学习）**\n",
      "   - **工具**：\n",
      "     - Adobe Acrobat“朗读”功能。\n",
      "     - 浏览器插件（如“Read Aloud” for Chrome）。\n",
      "   - **手机端**：iOS/Android可用“WPS Office”打开PDF后使用语音朗读。\n",
      "\n",
      "### 6. **在线工具（无需安装）**\n",
      "   - 上传PDF到以下网站提取文本：\n",
      "     - [Smallpdf](https://smallpdf.com)\n",
      "     - [iLovePDF](https://www.ilovepdf.com)\n",
      "   - **注意隐私**：敏感文件慎用在线工具。\n",
      "\n",
      "### 7. **手机端操作**\n",
      "   - **安卓/iOS**：\n",
      "     1. 用“WPS Office”或“Adobe Acrobat Reader”APP打开PDF。\n",
      "     2. 选择“分享→提取文字”或直接朗读。\n",
      "\n",
      "### 常见问题：\n",
      "- **中文乱码**：尝试用“福昕阅读器”或调整编码设置。\n",
      "- **加密PDF**：需密码解锁后才能读取。\n",
      "\n",
      "如果需要更具体的指导，请告诉我：\n",
      "- 你的设备（电脑/手机？系统？）\n",
      "- PDF类型（可复制文字/扫描图片？）\n",
      "- 用途（阅读/编辑/提取数据？）\n",
      "\n",
      "我会为你定制最佳方案！\n"
     ]
    }
   ],
   "source": [
    "response = client.chat.completions.create(\n",
    "    model=\"deepseek-chat\",\n",
    "    messages=[\n",
    "        {\"role\": \"user\", \"content\": \"如何帮我读一个pdf文件\"},\n",
    "    ],\n",
    "    stream=False\n",
    ")\n",
    "\n",
    "print(response.choices[0].message.content)"
   ]
  },
  {
   "cell_type": "code",
   "execution_count": 8,
   "id": "a545ef9c",
   "metadata": {},
   "outputs": [
    {
     "name": "stdout",
     "output_type": "stream",
     "text": [
      "你可以通过以下几种方法读取PDF文件的内容，我会根据你的需求提供详细步骤：\n",
      "\n",
      "### 一、使用PDF阅读器（适合直接阅读）\n",
      "1. **电脑端推荐工具**：\n",
      "   - Adobe Acrobat Reader（官方免费版）：https://get.adobe.com/reader/\n",
      "   - 轻量替代品：SumatraPDF（Windows）或 Preview（Mac内置）\n",
      "   - 开源工具：Foxit Reader\n",
      "\n",
      "2. **手机端推荐**：\n",
      "   - iOS：苹果自带「文件」应用\n",
      "   - Android：WPS Office 或 Xodo Docs\n",
      "\n",
      "### 二、提取文字内容（需编辑/复制文本）\n",
      "1. **复制文本**：\n",
      "   - 用阅读器打开PDF → 选择文字工具（T图标）→ 框选文字 → 复制\n",
      "   - *注意*：扫描版PDF需OCR识别（见第三步）\n",
      "\n",
      "2. **另存为文本文件**：\n",
      "   - 在Adobe Reader中：文件 → 另存为 → 选择「文本(.txt)」\n",
      "\n",
      "### 三、处理扫描件/图片PDF（OCR识别）\n",
      "推荐工具：\n",
      "1. **在线工具**：\n",
      "   - iLovePDF（免费）：https://www.ilovepdf.com/pdf_to_word\n",
      "   - Smallpdf：https://smallpdf.com/ocr-pdf\n",
      "\n",
      "2. **桌面软件**：\n",
      "   - Adobe Acrobat Pro（付费）：工具 → 增强扫描 → 识别文本\n",
      "   - 免费替代：ABBYY FineReader（试用版）\n",
      "\n",
      "### 四、编程提取（技术人员适用）\n",
      "```python\n",
      "# 安装依赖：pip install PyPDF2（或pdfplumber）\n",
      "import PyPDF2\n",
      "\n",
      "with open(\"file.pdf\", \"rb\") as file:\n",
      "    reader = PyPDF2.PdfReader(file)\n",
      "    for page in reader.pages:\n",
      "        print(page.extract_text())\n",
      "```\n",
      "*提示*：复杂格式推荐使用`pdfplumber`库效果更好\n",
      "\n",
      "### 五、语音朗读（听觉偏好者）\n",
      "1. **Windows**：\n",
      "   - 用Edge浏览器打开PDF → 右键选择「大声朗读」\n",
      "2. **Mac**：\n",
      "   - 系统设置 → 辅助功能 → 语音内容 → 启用「朗读所选内容」\n",
      "\n",
      "### 六、高级需求\n",
      "- **批量处理**：使用Adobe Acrobat的「动作向导」\n",
      "- **学术论文**：Zotero + PDF插件可自动提取元数据\n",
      "- **加密PDF**：如需密码，可使用合法工具如PDF Password Remover（需拥有权限）\n",
      "\n",
      "### 注意事项\n",
      "1. 扫描件质量直接影响OCR准确率，建议300dpi以上分辨率\n",
      "2. 复杂表格/公式可能需要手动调整\n",
      "3. 敏感文件建议使用离线工具处理\n",
      "\n",
      "需要更具体的帮助吗？请告诉我：\n",
      "- 您的设备类型（Win/Mac/手机）\n",
      "- PDF的具体类型（可复制文本/扫描图片/加密文件）\n",
      "- 您想实现的具体目标（阅读/编辑/转换格式等）"
     ]
    }
   ],
   "source": [
    "response = client.chat.completions.create(\n",
    "    model=\"deepseek-chat\",\n",
    "    messages=[\n",
    "        {\"role\": \"user\", \"content\": \"如何帮我读一个pdf文件\"},\n",
    "    ],\n",
    "    stream=True\n",
    ")\n",
    "\n",
    "for chunk in response:\n",
    "        if chunk.choices[0].delta.content is not None:\n",
    "            print(chunk.choices[0].delta.content, end=\"\")\n"
   ]
  },
  {
   "cell_type": "code",
   "execution_count": null,
   "id": "78f862b4",
   "metadata": {},
   "outputs": [],
   "source": []
  }
 ],
 "metadata": {
  "kernelspec": {
   "display_name": "Python 3 (ipykernel)",
   "language": "python",
   "name": "python3"
  },
  "language_info": {
   "codemirror_mode": {
    "name": "ipython",
    "version": 3
   },
   "file_extension": ".py",
   "mimetype": "text/x-python",
   "name": "python",
   "nbconvert_exporter": "python",
   "pygments_lexer": "ipython3",
   "version": "3.9.12"
  }
 },
 "nbformat": 4,
 "nbformat_minor": 5
}
